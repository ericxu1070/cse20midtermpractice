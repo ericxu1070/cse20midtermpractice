{
  "nbformat": 4,
  "nbformat_minor": 0,
  "metadata": {
    "colab": {
      "provenance": [],
      "authorship_tag": "ABX9TyMejmlYIlL0W36tJstdUE7x",
      "include_colab_link": true
    },
    "kernelspec": {
      "name": "python3",
      "display_name": "Python 3"
    },
    "language_info": {
      "name": "python"
    }
  },
  "cells": [
    {
      "cell_type": "markdown",
      "metadata": {
        "id": "view-in-github",
        "colab_type": "text"
      },
      "source": [
        "<a href=\"https://colab.research.google.com/github/ericxu1070/cse20midtermpractice/blob/main/CSE20PracticeProblems.ipynb\" target=\"_parent\"><img src=\"https://colab.research.google.com/assets/colab-badge.svg\" alt=\"Open In Colab\"/></a>"
      ]
    },
    {
      "cell_type": "markdown",
      "source": [
        "Multiplication Table:\n",
        "Write a program that prints the multiplication table (1 to 10). Each row corresponds to a number from 1 to 10.\n",
        "\n",
        "Example Output:\n",
        "```\n",
        "1 2 3 4 5 6 7 8 9 10\n",
        "2 4 6 8 10 12 14 16 18 20\n",
        "```"
      ],
      "metadata": {
        "id": "ya3XVXv3rMpH"
      }
    },
    {
      "cell_type": "code",
      "execution_count": null,
      "metadata": {
        "id": "suhyzr6IrHjN"
      },
      "outputs": [],
      "source": [
        "def multTable(num):\n",
        "  # Write your code here\n",
        "  return\n",
        "\n",
        "if __name__==\"__main__\":\n",
        "  multTable(1)\n",
        "  multTable(2)"
      ]
    },
    {
      "cell_type": "markdown",
      "source": [
        "Write a program that prints the following pattern using nested loops:\n",
        "```\n",
        "*\n",
        "**\n",
        "***\n",
        "****\n",
        "*****\n",
        "```\n"
      ],
      "metadata": {
        "id": "mEHjAIBcrLt5"
      }
    },
    {
      "cell_type": "code",
      "source": [
        "def arrow(height, width):\n",
        "  # Write your code here\n",
        "  return\n",
        "\n",
        "if __name__==\"__main__\":\n",
        "  arrow(5,5)"
      ],
      "metadata": {
        "id": "LnH9Z_amrish"
      },
      "execution_count": null,
      "outputs": []
    },
    {
      "cell_type": "markdown",
      "source": [
        "Write a program to print all prime numbers between 1 and 100 using nested loops."
      ],
      "metadata": {
        "id": "idck_P3QrjBq"
      }
    },
    {
      "cell_type": "code",
      "source": [
        "def prime(range):\n",
        "  # Write your code here\n",
        "  return\n",
        "\n",
        "if __name__==\"__main__\":\n",
        "  prime(100)"
      ],
      "metadata": {
        "id": "N6TtBLc8rnSw"
      },
      "execution_count": null,
      "outputs": []
    },
    {
      "cell_type": "markdown",
      "source": [
        "Write a program that prints a 5x5 grid where each cell alternates between X and O. Example Output:\n",
        "\n",
        "```\n",
        "X O X O X\n",
        "O X O X O\n",
        "X O X O X\n",
        "O X O X O\n",
        "X O X O X\n",
        "```"
      ],
      "metadata": {
        "id": "Ben4hqgYrreL"
      }
    },
    {
      "cell_type": "code",
      "source": [
        "def alternatingcells(height, width):\n",
        "  # Write your code here\n",
        "  return\n",
        "\n",
        "if __name__==\"__main__\":\n",
        "  alternatingcells(5,5)"
      ],
      "metadata": {
        "id": "j3Bvjd67rufY"
      },
      "execution_count": null,
      "outputs": []
    }
  ]
}