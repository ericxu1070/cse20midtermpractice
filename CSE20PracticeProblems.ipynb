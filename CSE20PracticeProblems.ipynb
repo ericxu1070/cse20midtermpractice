{
  "nbformat": 4,
  "nbformat_minor": 0,
  "metadata": {
    "colab": {
      "provenance": [],
      "authorship_tag": "ABX9TyOydByLvklB7uefc2uoy5Gp",
      "include_colab_link": true
    },
    "kernelspec": {
      "name": "python3",
      "display_name": "Python 3"
    },
    "language_info": {
      "name": "python"
    }
  },
  "cells": [
    {
      "cell_type": "markdown",
      "metadata": {
        "id": "view-in-github",
        "colab_type": "text"
      },
      "source": [
        "<a href=\"https://colab.research.google.com/github/ericxu1070/cse20midtermpractice/blob/main/CSE20PracticeProblems.ipynb\" target=\"_parent\"><img src=\"https://colab.research.google.com/assets/colab-badge.svg\" alt=\"Open In Colab\"/></a>"
      ]
    },
    {
      "cell_type": "markdown",
      "source": [
        "Multiplication Table:\n",
        "Write a program that prints the multiplication table (1 to 10). Each row corresponds to a number from 1 to 10.\n",
        "\n",
        "Example Output:\n",
        "```\n",
        "1 2 3 4 5 6 7 8 9 10\n",
        "2 4 6 8 10 12 14 16 18 20\n",
        "```"
      ],
      "metadata": {
        "id": "ya3XVXv3rMpH"
      }
    },
    {
      "cell_type": "code",
      "execution_count": null,
      "metadata": {
        "id": "suhyzr6IrHjN"
      },
      "outputs": [],
      "source": [
        "def multTable(num):\n",
        "  # Write your code here\n",
        "  return\n",
        "\n",
        "if __name__==\"__main__\":\n",
        "  multTable(1)\n",
        "  multTable(2)"
      ]
    },
    {
      "cell_type": "markdown",
      "source": [
        "Write a program that prints the following pattern using nested loops:\n",
        "```\n",
        "*\n",
        "**\n",
        "***\n",
        "****\n",
        "*****\n",
        "```\n"
      ],
      "metadata": {
        "id": "mEHjAIBcrLt5"
      }
    },
    {
      "cell_type": "code",
      "source": [
        "def arrow(height, width):\n",
        "  # Write your code here\n",
        "  return\n",
        "\n",
        "if __name__==\"__main__\":\n",
        "  arrow(5,5)"
      ],
      "metadata": {
        "id": "LnH9Z_amrish"
      },
      "execution_count": 8,
      "outputs": []
    },
    {
      "cell_type": "markdown",
      "source": [
        "Write a program to print all prime numbers between 1 and 100 using nested loops."
      ],
      "metadata": {
        "id": "idck_P3QrjBq"
      }
    },
    {
      "cell_type": "code",
      "source": [
        "def print_primes_in_range(start, end):\n",
        "  # write code here\n",
        "  return\n",
        "\n",
        "print_primes_in_range(1, 100)"
      ],
      "metadata": {
        "id": "N6TtBLc8rnSw"
      },
      "execution_count": null,
      "outputs": []
    },
    {
      "cell_type": "markdown",
      "source": [
        "Write a program that prints a 5x5 grid where each cell alternates between X and O. Example Output:\n",
        "\n",
        "```\n",
        "X O X O X\n",
        "O X O X O\n",
        "X O X O X\n",
        "O X O X O\n",
        "X O X O X\n",
        "```"
      ],
      "metadata": {
        "id": "Ben4hqgYrreL"
      }
    },
    {
      "cell_type": "code",
      "source": [
        "def alternatingcells(height, width):\n",
        "  # Write your code here\n",
        "  return\n",
        "\n",
        "if __name__==\"__main__\":\n",
        "  alternatingcells(5,5)"
      ],
      "metadata": {
        "id": "j3Bvjd67rufY"
      },
      "execution_count": null,
      "outputs": []
    },
    {
      "cell_type": "markdown",
      "source": [
        "palindrome: given a string, print \"*string* is a palindrome\" if the string is a palindrome and \"*string* is not a palindrome\" if the string is not a palindrome.\n",
        "\n",
        "a palindrome is a word that is read the same forwards as backwards.\n",
        "\n",
        "example output:\n",
        "```\n",
        "madam is a palindrome\n",
        "racecar is a palindrome\n",
        "hello is not a palindrome\n",
        "level is a palindrome\n",
        "world is not a palindrome\n",
        "```"
      ],
      "metadata": {
        "id": "F5413kvyuNt8"
      }
    },
    {
      "cell_type": "code",
      "source": [
        "def palindrome(word):\n",
        "  # Write your code here\n",
        "  return\n",
        "\n",
        "if __name__==\"__main__\":\n",
        "  palindrome(\"madam\")\n",
        "  palindrome(\"racecar\")\n",
        "  palindrome(\"hello\")\n",
        "  palindrome(\"level\")\n",
        "  palindrome(\"world\")"
      ],
      "metadata": {
        "id": "z7zn7PVXuPN8"
      },
      "execution_count": null,
      "outputs": []
    },
    {
      "cell_type": "markdown",
      "source": [
        "String manipulation practice: write code that returns this output with the given input\n",
        "input:\n",
        "```\n",
        "Billy bob JOE\n",
        "```\n",
        "output:\n",
        "```\n",
        "BILLY BOB JOE\n",
        "billy bob joe\n",
        "Billy Bob Joe\n",
        "['Billy', 'bob', 'JOE']\n",
        "bILLY BOB joe\n",
        "```\n",
        "\n",
        "functions used:\n",
        "upper()\n",
        "lower()\n",
        "title()\n",
        "split()\n",
        "swapcase()"
      ],
      "metadata": {
        "id": "kOvvBdhPx57h"
      }
    },
    {
      "cell_type": "code",
      "source": [
        "def stringmanip(word):\n",
        "  # Write your code here\n",
        "  return\n",
        "\n",
        "if __name__==\"__main__\":\n",
        "  stringmanip(\"Billy bob JOE\")"
      ],
      "metadata": {
        "id": "rvXUS7E4yGsc"
      },
      "execution_count": 14,
      "outputs": []
    }
  ]
}