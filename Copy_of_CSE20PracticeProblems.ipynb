{
  "nbformat": 4,
  "nbformat_minor": 0,
  "metadata": {
    "colab": {
      "provenance": [],
      "authorship_tag": "ABX9TyPqC6xKA9Zp9Q8rrivYFrkF",
      "include_colab_link": true
    },
    "kernelspec": {
      "name": "python3",
      "display_name": "Python 3"
    },
    "language_info": {
      "name": "python"
    }
  },
  "cells": [
    {
      "cell_type": "markdown",
      "metadata": {
        "id": "view-in-github",
        "colab_type": "text"
      },
      "source": [
        "<a href=\"https://colab.research.google.com/github/ericxu1070/cse20midtermpractice/blob/main/Copy_of_CSE20PracticeProblems.ipynb\" target=\"_parent\"><img src=\"https://colab.research.google.com/assets/colab-badge.svg\" alt=\"Open In Colab\"/></a>"
      ]
    },
    {
      "cell_type": "markdown",
      "source": [
        "Multiplication Table:\n",
        "Write a program that prints the multiplication table (1 to 10). Each row corresponds to a number from 1 to 10.\n",
        "\n",
        "Example Output:\n",
        "```\n",
        "1 2 3 4 5 6 7 8 9 10\n",
        "2 4 6 8 10 12 14 16 18 20\n",
        "```"
      ],
      "metadata": {
        "id": "ya3XVXv3rMpH"
      }
    },
    {
      "cell_type": "code",
      "execution_count": 1,
      "metadata": {
        "id": "suhyzr6IrHjN",
        "colab": {
          "base_uri": "https://localhost:8080/"
        },
        "outputId": "0d04a2f6-d3d8-4150-f3f8-35fd6f35466c"
      },
      "outputs": [
        {
          "output_type": "stream",
          "name": "stdout",
          "text": [
            "1 2 3 4 5 6 7 8 9 10 \n",
            "2 4 6 8 10 12 14 16 18 20 \n"
          ]
        }
      ],
      "source": [
        "def multTable(num):\n",
        "  # Write your code here\n",
        "  for i in range(1,11):\n",
        "    print(num*i, end = ' ')\n",
        "  print()\n",
        "  return\n",
        "\n",
        "if __name__==\"__main__\":\n",
        "  multTable(1)\n",
        "  multTable(2)"
      ]
    },
    {
      "cell_type": "markdown",
      "source": [
        "Write a program that prints the following pattern using nested loops:\n",
        "```\n",
        "*\n",
        "**\n",
        "***\n",
        "****\n",
        "*****\n",
        "```\n"
      ],
      "metadata": {
        "id": "mEHjAIBcrLt5"
      }
    },
    {
      "cell_type": "code",
      "source": [
        "def arrow(height, width):\n",
        "  # Write your code here\n",
        "  for col in range(height+1):\n",
        "    for row in range(col):\n",
        "      print('*', end = '')\n",
        "    print()\n",
        "  return\n",
        "\n",
        "if __name__==\"__main__\":\n",
        "  arrow(5,5)"
      ],
      "metadata": {
        "id": "LnH9Z_amrish",
        "colab": {
          "base_uri": "https://localhost:8080/"
        },
        "outputId": "dfd0143e-9118-4572-c197-00c05f9e000b"
      },
      "execution_count": 6,
      "outputs": [
        {
          "output_type": "stream",
          "name": "stdout",
          "text": [
            "\n",
            "*\n",
            "**\n",
            "***\n",
            "****\n",
            "*****\n"
          ]
        }
      ]
    },
    {
      "cell_type": "markdown",
      "source": [
        "Write a program to print all prime numbers between 1 and 100 using nested loops."
      ],
      "metadata": {
        "id": "idck_P3QrjBq"
      }
    },
    {
      "cell_type": "code",
      "source": [
        "def print_primes_in_range(start, end):\n",
        "    for num in range(start, end + 1):\n",
        "        if num < 2:\n",
        "            continue\n",
        "        is_prime = True\n",
        "\n",
        "        for i in range(2, int(num ** 0.5) + 1):\n",
        "            if num % i == 0:\n",
        "                is_prime = False\n",
        "                break\n",
        "        if is_prime:\n",
        "            print(num, end=\" \")\n",
        "\n",
        "print_primes_in_range(1, 100)\n"
      ],
      "metadata": {
        "id": "N6TtBLc8rnSw",
        "colab": {
          "base_uri": "https://localhost:8080/"
        },
        "outputId": "bf7d2069-fa78-4787-9bd4-646d6ce481c8"
      },
      "execution_count": 10,
      "outputs": [
        {
          "output_type": "stream",
          "name": "stdout",
          "text": [
            "2 3 5 7 11 13 17 19 23 29 31 37 41 43 47 53 59 61 67 71 73 79 83 89 97 "
          ]
        }
      ]
    },
    {
      "cell_type": "markdown",
      "source": [
        "Write a program that prints a 5x5 grid where each cell alternates between X and O. Example Output:\n",
        "\n",
        "```\n",
        "X O X O X\n",
        "O X O X O\n",
        "X O X O X\n",
        "O X O X O\n",
        "X O X O X\n",
        "```"
      ],
      "metadata": {
        "id": "Ben4hqgYrreL"
      }
    },
    {
      "cell_type": "code",
      "source": [
        "def alternatingcells(height, width):\n",
        "  for i in range(width):\n",
        "    for j in range(height):\n",
        "      if (i+j) % 2 == 0:\n",
        "        print('X', end = ' ')\n",
        "      else:\n",
        "        print('O', end = ' ')\n",
        "    print()\n",
        "  return\n",
        "\n",
        "if __name__==\"__main__\":\n",
        "  alternatingcells(5,5)"
      ],
      "metadata": {
        "id": "j3Bvjd67rufY",
        "colab": {
          "base_uri": "https://localhost:8080/"
        },
        "outputId": "450cc0b3-faf8-47c1-a12b-fad7203afef5"
      },
      "execution_count": 13,
      "outputs": [
        {
          "output_type": "stream",
          "name": "stdout",
          "text": [
            "X O X O X \n",
            "O X O X O \n",
            "X O X O X \n",
            "O X O X O \n",
            "X O X O X \n"
          ]
        }
      ]
    },
    {
      "cell_type": "markdown",
      "source": [
        "palindrome: given a string, print \"*string* is a palindrome\" if the string is a palindrome and \"*string* is not a palindrome\" if the string is not a palindrome.\n",
        "\n",
        "a palindrome is a word that is read the same forwards as backwards.\n",
        "\n",
        "example output:\n",
        "```\n",
        "madam is a palindrome\n",
        "racecar is a palindrome\n",
        "hello is not a palindrome\n",
        "level is a palindrome\n",
        "world is not a palindrome\n",
        "```"
      ],
      "metadata": {
        "id": "F5413kvyuNt8"
      }
    },
    {
      "cell_type": "code",
      "source": [
        "def palindrome(word):\n",
        "  # Write your code here\n",
        "  if word == word[::-1]:\n",
        "    print(f'{word} is a palindrome')\n",
        "  else:\n",
        "    print(f'{word} is not a palindrome')\n",
        "\n",
        "if __name__==\"__main__\":\n",
        "  palindrome(\"madam\")\n",
        "  palindrome(\"racecar\")\n",
        "  palindrome(\"hello\")\n",
        "  palindrome(\"level\")\n",
        "  palindrome(\"world\")"
      ],
      "metadata": {
        "id": "z7zn7PVXuPN8",
        "colab": {
          "base_uri": "https://localhost:8080/"
        },
        "outputId": "ebd6cd81-01f2-410b-e6d4-f107c42fae98"
      },
      "execution_count": 14,
      "outputs": [
        {
          "output_type": "stream",
          "name": "stdout",
          "text": [
            "madam is a palindrome\n",
            "racecar is a palindrome\n",
            "hello is not a palindrome\n",
            "level is a palindrome\n",
            "world is not a palindrome\n"
          ]
        }
      ]
    }
  ]
}